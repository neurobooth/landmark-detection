{
 "cells": [
  {
   "cell_type": "markdown",
   "id": "e34c3e45",
   "metadata": {},
   "source": [
    "# Example Notebook for Face Landmark Extraction "
   ]
  },
  {
   "cell_type": "markdown",
   "id": "09ec575f",
   "metadata": {},
   "source": [
    "### Initialize with Video file"
   ]
  },
  {
   "cell_type": "code",
   "execution_count": null,
   "id": "8247842f",
   "metadata": {},
   "outputs": [],
   "source": [
    "from neurobooth.face_landmarks import FaceLandmarkExtractor\n",
    "import matplotlib.pyplot as plt\n",
    "\n",
    "FLE = FaceLandmarkExtractor(\"example.mov\")"
   ]
  },
  {
   "cell_type": "markdown",
   "id": "40a7c77a",
   "metadata": {},
   "source": [
    "### You can preview the video"
   ]
  },
  {
   "cell_type": "code",
   "execution_count": null,
   "id": "0eb8b45e",
   "metadata": {},
   "outputs": [],
   "source": [
    "img = FLE.preview_video()"
   ]
  },
  {
   "cell_type": "markdown",
   "id": "520fe82d",
   "metadata": {},
   "source": [
    "### Extract landmarks with previews"
   ]
  },
  {
   "cell_type": "code",
   "execution_count": null,
   "id": "2b942db3",
   "metadata": {},
   "outputs": [],
   "source": [
    "results, landmark_overlay = FLE.extract_landmarks(show_preview=True)"
   ]
  },
  {
   "cell_type": "code",
   "execution_count": null,
   "id": "2b584560",
   "metadata": {},
   "outputs": [],
   "source": [
    "plt.imshow(landmark_overlay[200])"
   ]
  }
 ],
 "metadata": {
  "kernelspec": {
   "display_name": "Python 3 (ipykernel)",
   "language": "python",
   "name": "python3"
  },
  "language_info": {
   "codemirror_mode": {
    "name": "ipython",
    "version": 3
   },
   "file_extension": ".py",
   "mimetype": "text/x-python",
   "name": "python",
   "nbconvert_exporter": "python",
   "pygments_lexer": "ipython3",
   "version": "3.8.10"
  }
 },
 "nbformat": 4,
 "nbformat_minor": 5
}
