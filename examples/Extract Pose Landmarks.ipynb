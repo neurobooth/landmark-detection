{
 "cells": [
  {
   "cell_type": "markdown",
   "id": "f733e80d",
   "metadata": {},
   "source": [
    "# Example Notebook for Face Landmark Extraction "
   ]
  },
  {
   "cell_type": "code",
   "execution_count": null,
   "id": "36b216dc",
   "metadata": {},
   "outputs": [],
   "source": [
    "from neurobooth.pose_landmarks import PoseLandmarkExtractor\n",
    "import matplotlib.pyplot as plt\n",
    "\n",
    "PLE = PoseLandmarkExtractor(\"example.mov\")"
   ]
  },
  {
   "cell_type": "code",
   "execution_count": null,
   "id": "b38540a3",
   "metadata": {},
   "outputs": [],
   "source": [
    "results, landmark_overlay = PLE.extract_landmarks(show_preview=True)"
   ]
  },
  {
   "cell_type": "code",
   "execution_count": null,
   "id": "54285920",
   "metadata": {},
   "outputs": [],
   "source": [
    "plt.imshow(landmark_overlay[10])"
   ]
  },
  {
   "cell_type": "code",
   "execution_count": null,
   "id": "c0a752c0",
   "metadata": {},
   "outputs": [],
   "source": []
  }
 ],
 "metadata": {
  "kernelspec": {
   "display_name": "Python 3 (ipykernel)",
   "language": "python",
   "name": "python3"
  },
  "language_info": {
   "codemirror_mode": {
    "name": "ipython",
    "version": 3
   },
   "file_extension": ".py",
   "mimetype": "text/x-python",
   "name": "python",
   "nbconvert_exporter": "python",
   "pygments_lexer": "ipython3",
   "version": "3.8.10"
  }
 },
 "nbformat": 4,
 "nbformat_minor": 5
}
